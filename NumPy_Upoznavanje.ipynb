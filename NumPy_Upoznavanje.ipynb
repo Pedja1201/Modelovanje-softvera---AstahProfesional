{
  "nbformat": 4,
  "nbformat_minor": 0,
  "metadata": {
    "colab": {
      "name": "NumPy_Upoznavanje.ipynb",
      "provenance": [],
      "collapsed_sections": [],
      "authorship_tag": "ABX9TyPuTCZavgxDjroFqYEQEi16",
      "include_colab_link": true
    },
    "kernelspec": {
      "name": "python3",
      "display_name": "Python 3"
    },
    "language_info": {
      "name": "python"
    }
  },
  "cells": [
    {
      "cell_type": "markdown",
      "metadata": {
        "id": "view-in-github",
        "colab_type": "text"
      },
      "source": [
        "<a href=\"https://colab.research.google.com/github/Pedja1201/ModelovanjeSoftvera-AstahProfesional-/blob/main/NumPy_Upoznavanje.ipynb\" target=\"_parent\"><img src=\"https://colab.research.google.com/assets/colab-badge.svg\" alt=\"Open In Colab\"/></a>"
      ]
    },
    {
      "cell_type": "markdown",
      "source": [
        "**Upoznavanje sa NumPy**"
      ],
      "metadata": {
        "id": "FrvE0k6pjL4b"
      }
    },
    {
      "cell_type": "code",
      "execution_count": 1,
      "metadata": {
        "id": "AbAu53cHjJM2"
      },
      "outputs": [],
      "source": [
        "import numpy as np #Uvoz biblioteke"
      ]
    },
    {
      "cell_type": "markdown",
      "source": [
        "**Arrays(Nizovi)**"
      ],
      "metadata": {
        "id": "TFIxy4QQjoLw"
      }
    },
    {
      "cell_type": "code",
      "source": [
        "#Kreiranje niza\n",
        "a=np.array([0,1,2])"
      ],
      "metadata": {
        "id": "Vo5a0-pkjVqz"
      },
      "execution_count": 3,
      "outputs": []
    },
    {
      "cell_type": "code",
      "source": [
        "a"
      ],
      "metadata": {
        "colab": {
          "base_uri": "https://localhost:8080/"
        },
        "id": "hrUFV7IAj0pM",
        "outputId": "fcde7f62-3823-4dac-d5eb-f171caf87c71"
      },
      "execution_count": 4,
      "outputs": [
        {
          "output_type": "execute_result",
          "data": {
            "text/plain": [
              "array([0, 1, 2])"
            ]
          },
          "metadata": {},
          "execution_count": 4
        }
      ]
    },
    {
      "cell_type": "code",
      "source": [
        "a.shape  #3 elementa u jednoj dimenziji(Racuna elemente)"
      ],
      "metadata": {
        "colab": {
          "base_uri": "https://localhost:8080/"
        },
        "id": "7tNDUqfnj5eU",
        "outputId": "0ac834ef-e23c-4591-92e4-280cdf9ee292"
      },
      "execution_count": 5,
      "outputs": [
        {
          "output_type": "execute_result",
          "data": {
            "text/plain": [
              "(3,)"
            ]
          },
          "metadata": {},
          "execution_count": 5
        }
      ]
    },
    {
      "cell_type": "code",
      "source": [
        "a.ndim"
      ],
      "metadata": {
        "colab": {
          "base_uri": "https://localhost:8080/"
        },
        "id": "fpDGkYGFj66h",
        "outputId": "6e07624c-f049-4460-eb84-920f37058593"
      },
      "execution_count": 6,
      "outputs": [
        {
          "output_type": "execute_result",
          "data": {
            "text/plain": [
              "1"
            ]
          },
          "metadata": {},
          "execution_count": 6
        }
      ]
    },
    {
      "cell_type": "code",
      "source": [
        "a.size #Duzina niza"
      ],
      "metadata": {
        "colab": {
          "base_uri": "https://localhost:8080/"
        },
        "id": "4mviw_CnkEQn",
        "outputId": "c2824515-c811-449b-e440-4c8c9a0f76d6"
      },
      "execution_count": 7,
      "outputs": [
        {
          "output_type": "execute_result",
          "data": {
            "text/plain": [
              "3"
            ]
          },
          "metadata": {},
          "execution_count": 7
        }
      ]
    },
    {
      "cell_type": "code",
      "source": [
        "print([0])"
      ],
      "metadata": {
        "colab": {
          "base_uri": "https://localhost:8080/"
        },
        "id": "fTKPOK0ckIQn",
        "outputId": "dbedf3bf-4754-4242-8104-2f2fbafbb502"
      },
      "execution_count": 8,
      "outputs": [
        {
          "output_type": "stream",
          "name": "stdout",
          "text": [
            "[0]\n"
          ]
        }
      ]
    },
    {
      "cell_type": "code",
      "source": [
        ""
      ],
      "metadata": {
        "id": "iHSLYv91kOI3"
      },
      "execution_count": null,
      "outputs": []
    }
  ]
}